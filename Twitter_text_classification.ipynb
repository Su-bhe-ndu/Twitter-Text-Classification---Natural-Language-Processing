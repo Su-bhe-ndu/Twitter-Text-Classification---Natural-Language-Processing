{
 "cells": [
  {
   "cell_type": "code",
   "execution_count": 1,
   "metadata": {},
   "outputs": [],
   "source": [
    "import pandas as pd\n",
    "import numpy as np\n",
    "import spacy"
   ]
  },
  {
   "cell_type": "code",
   "execution_count": 3,
   "metadata": {},
   "outputs": [
    {
     "data": {
      "text/html": [
       "<div>\n",
       "<style scoped>\n",
       "    .dataframe tbody tr th:only-of-type {\n",
       "        vertical-align: middle;\n",
       "    }\n",
       "\n",
       "    .dataframe tbody tr th {\n",
       "        vertical-align: top;\n",
       "    }\n",
       "\n",
       "    .dataframe thead th {\n",
       "        text-align: right;\n",
       "    }\n",
       "</style>\n",
       "<table border=\"1\" class=\"dataframe\">\n",
       "  <thead>\n",
       "    <tr style=\"text-align: right;\">\n",
       "      <th></th>\n",
       "      <th>text</th>\n",
       "      <th>type</th>\n",
       "    </tr>\n",
       "  </thead>\n",
       "  <tbody>\n",
       "    <tr>\n",
       "      <th>0</th>\n",
       "      <td>@ACNI2012 @TheToka920 Never knew having 1 or 2...</td>\n",
       "      <td>sports</td>\n",
       "    </tr>\n",
       "    <tr>\n",
       "      <th>1</th>\n",
       "      <td>MYCA Magical Moments:\\n\\nSeptember, 2011: Sham...</td>\n",
       "      <td>sports</td>\n",
       "    </tr>\n",
       "    <tr>\n",
       "      <th>2</th>\n",
       "      <td>The current state of last year's @BBL finalist...</td>\n",
       "      <td>sports</td>\n",
       "    </tr>\n",
       "    <tr>\n",
       "      <th>3</th>\n",
       "      <td>@HOLLYJISOO Why did you bring a cricket...</td>\n",
       "      <td>sports</td>\n",
       "    </tr>\n",
       "    <tr>\n",
       "      <th>4</th>\n",
       "      <td>Babar Azam only Pakistani included in the ICC ...</td>\n",
       "      <td>sports</td>\n",
       "    </tr>\n",
       "  </tbody>\n",
       "</table>\n",
       "</div>"
      ],
      "text/plain": [
       "                                                text    type\n",
       "0  @ACNI2012 @TheToka920 Never knew having 1 or 2...  sports\n",
       "1  MYCA Magical Moments:\\n\\nSeptember, 2011: Sham...  sports\n",
       "2  The current state of last year's @BBL finalist...  sports\n",
       "3         @HOLLYJISOO Why did you bring a cricket...  sports\n",
       "4  Babar Azam only Pakistani included in the ICC ...  sports"
      ]
     },
     "execution_count": 3,
     "metadata": {},
     "output_type": "execute_result"
    }
   ],
   "source": [
    "data = pd.read_excel('C:/Users/HP/Desktop/Projects_data/Text Classification/Twitter/text_classification_dataset.xlsx')\n",
    "data.head()"
   ]
  },
  {
   "cell_type": "code",
   "execution_count": 4,
   "metadata": {},
   "outputs": [
    {
     "data": {
      "text/plain": [
       "'@ACNI2012 @TheToka920 Never knew having 1 or 2 followers had anything to do with reality...Malinga has never been s… https://t.co/SSmLS18O4k'"
      ]
     },
     "execution_count": 4,
     "metadata": {},
     "output_type": "execute_result"
    }
   ],
   "source": [
    "data.text[0]"
   ]
  },
  {
   "cell_type": "markdown",
   "metadata": {},
   "source": [
    "removing '@' and the URL"
   ]
  },
  {
   "cell_type": "code",
   "execution_count": 5,
   "metadata": {},
   "outputs": [
    {
     "data": {
      "text/plain": [
       "'MYCA Magical Moments:\\n\\nSeptember, 2011: Sham Chotoo of the Bowie Boys and Girls Club joins Maryland Youth Cricket a… '"
      ]
     },
     "execution_count": 5,
     "metadata": {},
     "output_type": "execute_result"
    }
   ],
   "source": [
    "data['text'] = data['text'].str.replace(r'@|https\\S+','',regex=True)\n",
    "data['text'][1]"
   ]
  },
  {
   "cell_type": "code",
   "execution_count": 6,
   "metadata": {},
   "outputs": [
    {
     "data": {
      "text/plain": [
       "0       ACNI2012 TheToka920 Never knew having 1 or 2 f...\n",
       "1       MYCA Magical Moments  September 2011 Sham Chot...\n",
       "2       The current state of last years BBL finalists ...\n",
       "3                  HOLLYJISOO Why did you bring a cricket\n",
       "4       Babar Azam only Pakistani included in the ICC ...\n",
       "                              ...                        \n",
       "1157    The senior is one of the most decorated male t...\n",
       "1158    2020 COULD be your year to get moving and chan...\n",
       "1159    RT MailSport I thought you liked yellow on me ...\n",
       "1160    RT BBCSport Tennis greats played together to r...\n",
       "1161    RT MattRacquet A thread on hard court sliding ...\n",
       "Name: clean_text, Length: 1162, dtype: object"
      ]
     },
     "execution_count": 6,
     "metadata": {},
     "output_type": "execute_result"
    }
   ],
   "source": [
    "data['clean_text'] = data['text'].str.replace(r'[^a-zA-Z0-9\\s]','',regex=True)         #removed special characters,symbols, punctuations etc.\n",
    "data['clean_text'] = data['clean_text'].str.replace(r'\\n|\\s+',' ',regex=True)          # replaced new line or more than one spaces with 1 space\n",
    "data['clean_text']"
   ]
  },
  {
   "cell_type": "code",
   "execution_count": 7,
   "metadata": {},
   "outputs": [
    {
     "data": {
      "text/plain": [
       "['tok2vec', 'tagger', 'parser', 'attribute_ruler', 'lemmatizer', 'ner']"
      ]
     },
     "execution_count": 7,
     "metadata": {},
     "output_type": "execute_result"
    }
   ],
   "source": [
    "nlp = spacy.load('en_core_web_sm')\n",
    "nlp.pipe_names"
   ]
  },
  {
   "cell_type": "code",
   "execution_count": 8,
   "metadata": {},
   "outputs": [
    {
     "name": "stdout",
     "output_type": "stream",
     "text": [
      "The\n",
      "current\n",
      "state\n",
      "of\n",
      "last\n",
      "years\n",
      "BBL\n",
      "finalists\n",
      "StarsBBL\n",
      "P10\n",
      "W9\n",
      "L1\n",
      "RenegadesBBL\n",
      "P10\n",
      "W1\n",
      "L9\n",
      "Cricket\n",
      "BBL09\n"
     ]
    }
   ],
   "source": [
    "doc = nlp(\"The current state of last years BBL finalists StarsBBL P10 W9 L1 RenegadesBBL P10 W1 L9 Cricket BBL09\")\n",
    "for token in doc:\n",
    "    print(token)"
   ]
  },
  {
   "cell_type": "code",
   "execution_count": 9,
   "metadata": {},
   "outputs": [
    {
     "data": {
      "text/html": [
       "<div>\n",
       "<style scoped>\n",
       "    .dataframe tbody tr th:only-of-type {\n",
       "        vertical-align: middle;\n",
       "    }\n",
       "\n",
       "    .dataframe tbody tr th {\n",
       "        vertical-align: top;\n",
       "    }\n",
       "\n",
       "    .dataframe thead th {\n",
       "        text-align: right;\n",
       "    }\n",
       "</style>\n",
       "<table border=\"1\" class=\"dataframe\">\n",
       "  <thead>\n",
       "    <tr style=\"text-align: right;\">\n",
       "      <th></th>\n",
       "      <th>text</th>\n",
       "      <th>type</th>\n",
       "      <th>clean_text</th>\n",
       "    </tr>\n",
       "  </thead>\n",
       "  <tbody>\n",
       "    <tr>\n",
       "      <th>0</th>\n",
       "      <td>ACNI2012 TheToka920 Never knew having 1 or 2 f...</td>\n",
       "      <td>sports</td>\n",
       "      <td>ACNI2012 TheToka920 Never knew having 1 or 2 f...</td>\n",
       "    </tr>\n",
       "    <tr>\n",
       "      <th>1</th>\n",
       "      <td>MYCA Magical Moments:\\n\\nSeptember, 2011: Sham...</td>\n",
       "      <td>sports</td>\n",
       "      <td>MYCA Magical Moments  September 2011 Sham Chot...</td>\n",
       "    </tr>\n",
       "    <tr>\n",
       "      <th>2</th>\n",
       "      <td>The current state of last year's BBL finalists...</td>\n",
       "      <td>sports</td>\n",
       "      <td>The current state of last years BBL finalists ...</td>\n",
       "    </tr>\n",
       "    <tr>\n",
       "      <th>3</th>\n",
       "      <td>HOLLYJISOO Why did you bring a cricket...</td>\n",
       "      <td>sports</td>\n",
       "      <td>HOLLYJISOO Why did you bring a cricket</td>\n",
       "    </tr>\n",
       "    <tr>\n",
       "      <th>4</th>\n",
       "      <td>Babar Azam only Pakistani included in the ICC ...</td>\n",
       "      <td>sports</td>\n",
       "      <td>Babar Azam only Pakistani included in the ICC ...</td>\n",
       "    </tr>\n",
       "    <tr>\n",
       "      <th>...</th>\n",
       "      <td>...</td>\n",
       "      <td>...</td>\n",
       "      <td>...</td>\n",
       "    </tr>\n",
       "    <tr>\n",
       "      <th>1157</th>\n",
       "      <td>The senior is one of the most decorated male t...</td>\n",
       "      <td>sports</td>\n",
       "      <td>The senior is one of the most decorated male t...</td>\n",
       "    </tr>\n",
       "    <tr>\n",
       "      <th>1158</th>\n",
       "      <td>2020 COULD be your year to get moving and chan...</td>\n",
       "      <td>sports</td>\n",
       "      <td>2020 COULD be your year to get moving and chan...</td>\n",
       "    </tr>\n",
       "    <tr>\n",
       "      <th>1159</th>\n",
       "      <td>RT MailSport: 'I thought you liked yellow on m...</td>\n",
       "      <td>sports</td>\n",
       "      <td>RT MailSport I thought you liked yellow on me ...</td>\n",
       "    </tr>\n",
       "    <tr>\n",
       "      <th>1160</th>\n",
       "      <td>RT BBCSport: ❤️ \\n\\nTennis greats played toget...</td>\n",
       "      <td>sports</td>\n",
       "      <td>RT BBCSport Tennis greats played together to r...</td>\n",
       "    </tr>\n",
       "    <tr>\n",
       "      <th>1161</th>\n",
       "      <td>RT MattRacquet: A thread on hard court sliding...</td>\n",
       "      <td>sports</td>\n",
       "      <td>RT MattRacquet A thread on hard court sliding ...</td>\n",
       "    </tr>\n",
       "  </tbody>\n",
       "</table>\n",
       "<p>1162 rows × 3 columns</p>\n",
       "</div>"
      ],
      "text/plain": [
       "                                                   text    type  \\\n",
       "0     ACNI2012 TheToka920 Never knew having 1 or 2 f...  sports   \n",
       "1     MYCA Magical Moments:\\n\\nSeptember, 2011: Sham...  sports   \n",
       "2     The current state of last year's BBL finalists...  sports   \n",
       "3             HOLLYJISOO Why did you bring a cricket...  sports   \n",
       "4     Babar Azam only Pakistani included in the ICC ...  sports   \n",
       "...                                                 ...     ...   \n",
       "1157  The senior is one of the most decorated male t...  sports   \n",
       "1158  2020 COULD be your year to get moving and chan...  sports   \n",
       "1159  RT MailSport: 'I thought you liked yellow on m...  sports   \n",
       "1160  RT BBCSport: ❤️ \\n\\nTennis greats played toget...  sports   \n",
       "1161  RT MattRacquet: A thread on hard court sliding...  sports   \n",
       "\n",
       "                                             clean_text  \n",
       "0     ACNI2012 TheToka920 Never knew having 1 or 2 f...  \n",
       "1     MYCA Magical Moments  September 2011 Sham Chot...  \n",
       "2     The current state of last years BBL finalists ...  \n",
       "3                HOLLYJISOO Why did you bring a cricket  \n",
       "4     Babar Azam only Pakistani included in the ICC ...  \n",
       "...                                                 ...  \n",
       "1157  The senior is one of the most decorated male t...  \n",
       "1158  2020 COULD be your year to get moving and chan...  \n",
       "1159  RT MailSport I thought you liked yellow on me ...  \n",
       "1160  RT BBCSport Tennis greats played together to r...  \n",
       "1161  RT MattRacquet A thread on hard court sliding ...  \n",
       "\n",
       "[1162 rows x 3 columns]"
      ]
     },
     "execution_count": 9,
     "metadata": {},
     "output_type": "execute_result"
    }
   ],
   "source": [
    "data"
   ]
  },
  {
   "cell_type": "code",
   "execution_count": 10,
   "metadata": {},
   "outputs": [
    {
     "data": {
      "text/plain": [
       "0       acni2012 thetoka920 know have 1 2 follower rea...\n",
       "1       MYCA Magical Moments    September 2011 Sham Ch...\n",
       "2       current state year BBL finalist StarsBBL P10 W...\n",
       "3                                HOLLYJISOO bring cricket\n",
       "4       Babar Azam Pakistani include ICC ODI team year...\n",
       "                              ...                        \n",
       "1157    senior decorate male tennis player northwest L...\n",
       "1158    2020 year move change live animal Midshore Com...\n",
       "1159    RT MailSport think like yellow s ok    Grigor ...\n",
       "1160    RT BBCSport Tennis great play raise money aust...\n",
       "1161    RT MattRacquet thread hard court slide amp mov...\n",
       "Name: clean_text, Length: 1162, dtype: object"
      ]
     },
     "execution_count": 10,
     "metadata": {},
     "output_type": "execute_result"
    }
   ],
   "source": [
    "from spacy.lang.en.stop_words import STOP_WORDS\n",
    "def preprocess(text):\n",
    "    doc = nlp(text)\n",
    "    tokens = [token.text for token in doc if token.text.lower() not in STOP_WORDS]\n",
    "    lemmas = [token.lemma_ for token in nlp(' '.join(tokens))]\n",
    "    final_text = ' '.join(lemmas)\n",
    "    return final_text\n",
    "data['clean_text'] = data['clean_text'].apply(preprocess)\n",
    "data['clean_text']"
   ]
  },
  {
   "cell_type": "code",
   "execution_count": 11,
   "metadata": {},
   "outputs": [
    {
     "data": {
      "text/html": [
       "<div>\n",
       "<style scoped>\n",
       "    .dataframe tbody tr th:only-of-type {\n",
       "        vertical-align: middle;\n",
       "    }\n",
       "\n",
       "    .dataframe tbody tr th {\n",
       "        vertical-align: top;\n",
       "    }\n",
       "\n",
       "    .dataframe thead th {\n",
       "        text-align: right;\n",
       "    }\n",
       "</style>\n",
       "<table border=\"1\" class=\"dataframe\">\n",
       "  <thead>\n",
       "    <tr style=\"text-align: right;\">\n",
       "      <th></th>\n",
       "      <th>text</th>\n",
       "      <th>type</th>\n",
       "      <th>clean_text</th>\n",
       "    </tr>\n",
       "  </thead>\n",
       "  <tbody>\n",
       "    <tr>\n",
       "      <th>0</th>\n",
       "      <td>ACNI2012 TheToka920 Never knew having 1 or 2 f...</td>\n",
       "      <td>sports</td>\n",
       "      <td>acni2012 thetoka920 know have 1 2 follower rea...</td>\n",
       "    </tr>\n",
       "    <tr>\n",
       "      <th>1</th>\n",
       "      <td>MYCA Magical Moments:\\n\\nSeptember, 2011: Sham...</td>\n",
       "      <td>sports</td>\n",
       "      <td>MYCA Magical Moments    September 2011 Sham Ch...</td>\n",
       "    </tr>\n",
       "    <tr>\n",
       "      <th>2</th>\n",
       "      <td>The current state of last year's BBL finalists...</td>\n",
       "      <td>sports</td>\n",
       "      <td>current state year BBL finalist StarsBBL P10 W...</td>\n",
       "    </tr>\n",
       "    <tr>\n",
       "      <th>3</th>\n",
       "      <td>HOLLYJISOO Why did you bring a cricket...</td>\n",
       "      <td>sports</td>\n",
       "      <td>HOLLYJISOO bring cricket</td>\n",
       "    </tr>\n",
       "    <tr>\n",
       "      <th>4</th>\n",
       "      <td>Babar Azam only Pakistani included in the ICC ...</td>\n",
       "      <td>sports</td>\n",
       "      <td>Babar Azam Pakistani include ICC ODI team year...</td>\n",
       "    </tr>\n",
       "    <tr>\n",
       "      <th>...</th>\n",
       "      <td>...</td>\n",
       "      <td>...</td>\n",
       "      <td>...</td>\n",
       "    </tr>\n",
       "    <tr>\n",
       "      <th>1157</th>\n",
       "      <td>The senior is one of the most decorated male t...</td>\n",
       "      <td>sports</td>\n",
       "      <td>senior decorate male tennis player northwest L...</td>\n",
       "    </tr>\n",
       "    <tr>\n",
       "      <th>1158</th>\n",
       "      <td>2020 COULD be your year to get moving and chan...</td>\n",
       "      <td>sports</td>\n",
       "      <td>2020 year move change live animal Midshore Com...</td>\n",
       "    </tr>\n",
       "    <tr>\n",
       "      <th>1159</th>\n",
       "      <td>RT MailSport: 'I thought you liked yellow on m...</td>\n",
       "      <td>sports</td>\n",
       "      <td>RT MailSport think like yellow s ok    Grigor ...</td>\n",
       "    </tr>\n",
       "    <tr>\n",
       "      <th>1160</th>\n",
       "      <td>RT BBCSport: ❤️ \\n\\nTennis greats played toget...</td>\n",
       "      <td>sports</td>\n",
       "      <td>RT BBCSport Tennis great play raise money aust...</td>\n",
       "    </tr>\n",
       "    <tr>\n",
       "      <th>1161</th>\n",
       "      <td>RT MattRacquet: A thread on hard court sliding...</td>\n",
       "      <td>sports</td>\n",
       "      <td>RT MattRacquet thread hard court slide amp mov...</td>\n",
       "    </tr>\n",
       "  </tbody>\n",
       "</table>\n",
       "<p>1162 rows × 3 columns</p>\n",
       "</div>"
      ],
      "text/plain": [
       "                                                   text    type  \\\n",
       "0     ACNI2012 TheToka920 Never knew having 1 or 2 f...  sports   \n",
       "1     MYCA Magical Moments:\\n\\nSeptember, 2011: Sham...  sports   \n",
       "2     The current state of last year's BBL finalists...  sports   \n",
       "3             HOLLYJISOO Why did you bring a cricket...  sports   \n",
       "4     Babar Azam only Pakistani included in the ICC ...  sports   \n",
       "...                                                 ...     ...   \n",
       "1157  The senior is one of the most decorated male t...  sports   \n",
       "1158  2020 COULD be your year to get moving and chan...  sports   \n",
       "1159  RT MailSport: 'I thought you liked yellow on m...  sports   \n",
       "1160  RT BBCSport: ❤️ \\n\\nTennis greats played toget...  sports   \n",
       "1161  RT MattRacquet: A thread on hard court sliding...  sports   \n",
       "\n",
       "                                             clean_text  \n",
       "0     acni2012 thetoka920 know have 1 2 follower rea...  \n",
       "1     MYCA Magical Moments    September 2011 Sham Ch...  \n",
       "2     current state year BBL finalist StarsBBL P10 W...  \n",
       "3                              HOLLYJISOO bring cricket  \n",
       "4     Babar Azam Pakistani include ICC ODI team year...  \n",
       "...                                                 ...  \n",
       "1157  senior decorate male tennis player northwest L...  \n",
       "1158  2020 year move change live animal Midshore Com...  \n",
       "1159  RT MailSport think like yellow s ok    Grigor ...  \n",
       "1160  RT BBCSport Tennis great play raise money aust...  \n",
       "1161  RT MattRacquet thread hard court slide amp mov...  \n",
       "\n",
       "[1162 rows x 3 columns]"
      ]
     },
     "execution_count": 11,
     "metadata": {},
     "output_type": "execute_result"
    }
   ],
   "source": [
    "data"
   ]
  },
  {
   "cell_type": "code",
   "execution_count": 12,
   "metadata": {},
   "outputs": [],
   "source": [
    "from sklearn.model_selection import train_test_split\n",
    "from sklearn.feature_extraction.text import TfidfVectorizer\n",
    "from sklearn.naive_bayes import MultinomialNB\n",
    "\n",
    "X_train,X_val,y_train,y_val = train_test_split(data['clean_text'],data['type'],test_size=0.2,random_state=1)\n",
    "\n",
    "vectorizer = TfidfVectorizer()\n",
    "X_train_vect = vectorizer.fit_transform(X_train)\n",
    "X_val_vect = vectorizer.transform(X_val)\n"
   ]
  },
  {
   "cell_type": "code",
   "execution_count": 13,
   "metadata": {},
   "outputs": [
    {
     "data": {
      "text/plain": [
       "array(['politics', 'entertainment', 'medical', 'politics', 'medical',\n",
       "       'entertainment', 'medical', 'politics', 'entertainment',\n",
       "       'politics', 'sports', 'politics', 'politics', 'politics',\n",
       "       'entertainment', 'politics', 'medical', 'politics',\n",
       "       'entertainment', 'politics', 'politics', 'medical', 'politics',\n",
       "       'medical', 'politics', 'medical', 'sports', 'politics', 'politics',\n",
       "       'sports', 'sports', 'politics', 'politics', 'entertainment',\n",
       "       'entertainment', 'medical', 'politics', 'sports', 'entertainment',\n",
       "       'politics', 'politics', 'politics', 'medical', 'entertainment',\n",
       "       'politics', 'politics', 'sports', 'politics', 'politics', 'sports',\n",
       "       'politics', 'politics', 'sports', 'politics', 'politics',\n",
       "       'entertainment', 'medical', 'politics', 'entertainment', 'medical',\n",
       "       'sports', 'politics', 'politics', 'politics', 'medical',\n",
       "       'politics', 'medical', 'entertainment', 'entertainment', 'sports',\n",
       "       'sports', 'politics', 'politics', 'sports', 'politics',\n",
       "       'entertainment', 'sports', 'politics', 'politics', 'politics',\n",
       "       'sports', 'politics', 'sports', 'politics', 'politics', 'medical',\n",
       "       'sports', 'medical', 'medical', 'politics', 'politics', 'medical',\n",
       "       'sports', 'entertainment', 'politics', 'sports', 'entertainment',\n",
       "       'politics', 'medical', 'sports', 'politics', 'politics', 'medical',\n",
       "       'sports', 'sports', 'entertainment', 'politics', 'entertainment',\n",
       "       'sports', 'sports', 'entertainment', 'politics', 'entertainment',\n",
       "       'politics', 'entertainment', 'sports', 'medical', 'medical',\n",
       "       'sports', 'politics', 'entertainment', 'politics', 'medical',\n",
       "       'entertainment', 'politics', 'medical', 'politics', 'politics',\n",
       "       'politics', 'sports', 'sports', 'entertainment', 'medical',\n",
       "       'entertainment', 'medical', 'entertainment', 'sports', 'politics',\n",
       "       'medical', 'politics', 'politics', 'politics', 'entertainment',\n",
       "       'politics', 'medical', 'entertainment', 'politics', 'sports',\n",
       "       'politics', 'politics', 'entertainment', 'politics', 'politics',\n",
       "       'medical', 'politics', 'politics', 'medical', 'medical',\n",
       "       'politics', 'medical', 'entertainment', 'sports', 'politics',\n",
       "       'politics', 'politics', 'sports', 'medical', 'sports',\n",
       "       'entertainment', 'medical', 'entertainment', 'politics',\n",
       "       'politics', 'medical', 'medical', 'sports', 'sports',\n",
       "       'entertainment', 'sports', 'entertainment', 'entertainment',\n",
       "       'entertainment', 'politics', 'politics', 'entertainment',\n",
       "       'politics', 'entertainment', 'medical', 'politics', 'politics',\n",
       "       'medical', 'medical', 'entertainment', 'medical', 'politics',\n",
       "       'entertainment', 'sports', 'medical', 'politics', 'medical',\n",
       "       'sports', 'politics', 'entertainment', 'politics', 'politics',\n",
       "       'medical', 'sports', 'sports', 'entertainment', 'medical',\n",
       "       'politics', 'sports', 'politics', 'entertainment', 'medical',\n",
       "       'politics', 'sports', 'medical', 'medical', 'medical', 'politics',\n",
       "       'politics', 'entertainment', 'medical', 'sports', 'politics',\n",
       "       'entertainment', 'sports', 'politics', 'politics', 'medical',\n",
       "       'politics', 'politics'], dtype='<U13')"
      ]
     },
     "execution_count": 13,
     "metadata": {},
     "output_type": "execute_result"
    }
   ],
   "source": [
    "model = MultinomialNB()\n",
    "model.fit(X_train_vect,y_train)\n",
    "y_pred = model.predict(X_val_vect)\n",
    "y_pred"
   ]
  },
  {
   "cell_type": "code",
   "execution_count": 14,
   "metadata": {},
   "outputs": [
    {
     "name": "stdout",
     "output_type": "stream",
     "text": [
      "               precision    recall  f1-score   support\n",
      "\n",
      "entertainment       0.77      0.82      0.80        45\n",
      "      medical       0.67      0.88      0.76        49\n",
      "     politics       0.88      0.64      0.74        96\n",
      "       sports       0.79      0.95      0.86        43\n",
      "\n",
      "     accuracy                           0.78       233\n",
      "    macro avg       0.78      0.82      0.79       233\n",
      " weighted avg       0.80      0.78      0.78       233\n",
      "\n"
     ]
    }
   ],
   "source": [
    "from sklearn.metrics import classification_report\n",
    "print(classification_report(y_pred,y_val))"
   ]
  },
  {
   "cell_type": "code",
   "execution_count": 15,
   "metadata": {},
   "outputs": [
    {
     "data": {
      "text/plain": [
       "type\n",
       "politics         345\n",
       "medical          299\n",
       "entertainment    260\n",
       "sports           258\n",
       "Name: count, dtype: int64"
      ]
     },
     "execution_count": 15,
     "metadata": {},
     "output_type": "execute_result"
    }
   ],
   "source": [
    "data['type'].value_counts()"
   ]
  },
  {
   "cell_type": "code",
   "execution_count": 16,
   "metadata": {},
   "outputs": [
    {
     "name": "stdout",
     "output_type": "stream",
     "text": [
      "               precision    recall  f1-score   support\n",
      "\n",
      "entertainment       0.67      0.94      0.78        34\n",
      "      medical       0.62      0.95      0.75        42\n",
      "     politics       0.97      0.58      0.72       116\n",
      "       sports       0.77      0.98      0.86        41\n",
      "\n",
      "     accuracy                           0.77       233\n",
      "    macro avg       0.76      0.86      0.78       233\n",
      " weighted avg       0.83      0.77      0.76       233\n",
      "\n"
     ]
    }
   ],
   "source": [
    "from sklearn.svm import SVC\n",
    "\n",
    "model1 = SVC()\n",
    "model1.fit(X_train_vect,y_train)\n",
    "pred_y = model1.predict(X_val_vect)\n",
    "\n",
    "print(classification_report(pred_y,y_val))"
   ]
  },
  {
   "cell_type": "code",
   "execution_count": 17,
   "metadata": {},
   "outputs": [
    {
     "name": "stdout",
     "output_type": "stream",
     "text": [
      "               precision    recall  f1-score   support\n",
      "\n",
      "entertainment       0.67      1.00      0.80        32\n",
      "      medical       0.66      0.95      0.78        44\n",
      "     politics       0.99      0.58      0.73       118\n",
      "       sports       0.75      1.00      0.86        39\n",
      "\n",
      "     accuracy                           0.78       233\n",
      "    macro avg       0.76      0.88      0.79       233\n",
      " weighted avg       0.84      0.78      0.77       233\n",
      "\n"
     ]
    }
   ],
   "source": [
    "from sklearn.ensemble import RandomForestClassifier\n",
    "\n",
    "model2 = RandomForestClassifier()\n",
    "model2.fit(X_train_vect,y_train)\n",
    "y_ = model2.predict(X_val_vect)\n",
    "\n",
    "print(classification_report(y_,y_val))"
   ]
  },
  {
   "cell_type": "markdown",
   "metadata": {},
   "source": [
    "Handling imbalanced data"
   ]
  },
  {
   "cell_type": "code",
   "execution_count": 20,
   "metadata": {},
   "outputs": [
    {
     "data": {
      "text/plain": [
       "type\n",
       "politics         69\n",
       "medical          64\n",
       "sports           52\n",
       "entertainment    48\n",
       "Name: count, dtype: int64"
      ]
     },
     "execution_count": 20,
     "metadata": {},
     "output_type": "execute_result"
    }
   ],
   "source": [
    "from imblearn.over_sampling import SMOTE\n",
    "\n",
    "smote = SMOTE()\n",
    "X_train_over,y_train_over = smote.fit_resample(X_train_vect,y_train)"
   ]
  },
  {
   "cell_type": "code",
   "execution_count": 32,
   "metadata": {},
   "outputs": [
    {
     "name": "stdout",
     "output_type": "stream",
     "text": [
      "               precision    recall  f1-score   support\n",
      "\n",
      "entertainment       0.85      0.71      0.77        58\n",
      "      medical       0.73      0.81      0.77        58\n",
      "     politics       0.78      0.78      0.78        69\n",
      "       sports       0.85      0.92      0.88        48\n",
      "\n",
      "     accuracy                           0.80       233\n",
      "    macro avg       0.80      0.80      0.80       233\n",
      " weighted avg       0.80      0.80      0.80       233\n",
      "\n"
     ]
    }
   ],
   "source": [
    "model.fit(X_train_over,y_train_over)\n",
    "pred_1 = model.predict(X_val_vect)\n",
    "\n",
    "print(classification_report(pred_1,y_val))"
   ]
  }
 ],
 "metadata": {
  "kernelspec": {
   "display_name": "Python 3",
   "language": "python",
   "name": "python3"
  },
  "language_info": {
   "codemirror_mode": {
    "name": "ipython",
    "version": 3
   },
   "file_extension": ".py",
   "mimetype": "text/x-python",
   "name": "python",
   "nbconvert_exporter": "python",
   "pygments_lexer": "ipython3",
   "version": "3.10.6"
  }
 },
 "nbformat": 4,
 "nbformat_minor": 2
}
